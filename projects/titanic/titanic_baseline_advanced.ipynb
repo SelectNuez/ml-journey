{
 "cells": [
  {
   "cell_type": "code",
   "execution_count": 5,
   "metadata": {},
   "outputs": [
    {
     "data": {
      "text/plain": [
       "2972717"
      ]
     },
     "execution_count": 5,
     "metadata": {},
     "output_type": "execute_result"
    }
   ],
   "source": [
    "import pandas as pd\n",
    "from sklearn.preprocessing import StandardScaler, OneHotEncoder\n",
    "from sklearn.compose import ColumnTransformer\n",
    "from sklearn.ensemble import RandomForestClassifier\n",
    "from sklearn.pipeline import Pipeline\n",
    "from sklearn.model_selection import cross_val_score\n",
    "import pickle, pathlib\n",
    "\n",
    "#Import data\n",
    "df = pd.read_csv(\"data/train.csv\")\n",
    "\n",
    "#Select columns to use\n",
    "columns = [\"Survived\", \"Pclass\", \"Sex\", \"Age\", \"Fare\", \"SibSp\", \"Parch\", \"Embarked\", \"Name\"]\n",
    "df = df[columns]\n",
    "\n",
    "#Extract title with regex\n",
    "df[\"Title\"] = df[\"Name\"].str.extract(r\",\\s*([^\\.]*)\\s*\\.\", expand=False)\n",
    "\n",
    "#Group titles\n",
    "df[\"Title\"] = df[\"Title\"].replace({\n",
    "    \"Mlle\": \"Miss\",\n",
    "    \"Ms\": \"Miss\",\n",
    "    \"Mme\": \"Mrs\",\n",
    "    \"Dr\": \"Rare\", \"Rev\": \"Rare\", \"Col\": \"Rare\", \"Major\": \"Rare\", \"Capt\": \"Rare\", \"Jonkheer\": \"Rare\",\n",
    "    \"Sir\": \"Royalty\", \"Lady\": \"Royalty\", \"Countess\": \"Royalty\", \"Don\": \"Royalty\", \"Dona\": \"Royalty\"\n",
    "})\n",
    "\n",
    "#Set null values with median\n",
    "df[\"Age\"] = df[\"Age\"].fillna(df[\"Age\"].median())\n",
    "df[\"Fare\"] = df[\"Fare\"].fillna(df[\"Fare\"].median())\n",
    "\n",
    "#Set null value with S (Comun)\n",
    "df[\"Embarked\"] = df[\"Embarked\"].fillna(\"S\")\n",
    "\n",
    "#What we want to predict\n",
    "y = df[\"Survived\"]\n",
    "\n",
    "X = df.drop(columns=[\"Survived\", \"Name\"])\n",
    "\n",
    "numeric_features = [\"Age\", \"Fare\", \"SibSp\", \"Parch\"]\n",
    "categorical_features = [\"Pclass\", \"Sex\", \"Embarked\", \"Title\"]\n",
    "\n",
    "preprocessor = ColumnTransformer(\n",
    "    transformers=[\n",
    "        (\"num\", StandardScaler(),numeric_features),\n",
    "        (\"cat\", OneHotEncoder(handle_unknown=\"ignore\"), categorical_features)\n",
    "    ]\n",
    ")\n",
    "\n",
    "pipeline = Pipeline(\n",
    "    steps=[\n",
    "        (\"preprocessing\", preprocessor),\n",
    "        (\"model\", RandomForestClassifier(random_state=42))\n",
    "    ]\n",
    ")\n",
    "\n",
    "pipeline.fit(X, y)\n",
    "\n",
    "pathlib.Path(\"./\").joinpath(\"model_advanced.pkl\").write_bytes(pickle.dumps(pipeline))\n",
    "\n",
    "\n",
    "\n"
   ]
  }
 ],
 "metadata": {
  "kernelspec": {
   "display_name": "Python 3",
   "language": "python",
   "name": "python3"
  },
  "language_info": {
   "codemirror_mode": {
    "name": "ipython",
    "version": 3
   },
   "file_extension": ".py",
   "mimetype": "text/x-python",
   "name": "python",
   "nbconvert_exporter": "python",
   "pygments_lexer": "ipython3",
   "version": "3.11.4"
  }
 },
 "nbformat": 4,
 "nbformat_minor": 2
}
