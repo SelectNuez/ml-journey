{
 "cells": [
  {
   "cell_type": "code",
   "execution_count": 1,
   "metadata": {
    "vscode": {
     "languageId": "plaintext"
    }
   },
   "outputs": [
    {
     "name": "stdout",
     "output_type": "stream",
     "text": [
      "Shape: (891, 12)\n",
      "   Survived  Pclass     Sex   Age     Fare\n",
      "0         0       3    male  22.0   7.2500\n",
      "1         1       1  female  38.0  71.2833\n",
      "2         1       3  female  26.0   7.9250\n",
      "3         1       1  female  35.0  53.1000\n",
      "4         0       3    male  35.0   8.0500\n",
      "              precision    recall  f1-score   support\n",
      "\n",
      "           0       0.81      0.78      0.80        87\n",
      "           1       0.68      0.71      0.70        56\n",
      "\n",
      "    accuracy                           0.76       143\n",
      "   macro avg       0.74      0.75      0.75       143\n",
      "weighted avg       0.76      0.76      0.76       143\n",
      "\n"
     ]
    }
   ],
   "source": [
    "# titanic_baseline.ipynb\n",
    "\n",
    "import pandas as pd\n",
    "from sklearn.model_selection import train_test_split\n",
    "from sklearn.linear_model import LogisticRegression\n",
    "from sklearn.metrics import classification_report\n",
    "\n",
    "# Carga de datos\n",
    "df = pd.read_csv(\"data/train.csv\")\n",
    "print(f\"Shape: {df.shape}\")\n",
    "print(df[[\"Survived\", \"Pclass\", \"Sex\", \"Age\", \"Fare\"]].head())\n",
    "\n",
    "# Preprocesado básico\n",
    "df = df[[\"Survived\", \"Pclass\", \"Sex\", \"Age\", \"Fare\"]].dropna()\n",
    "df[\"Sex\"] = df[\"Sex\"].map({\"male\": 0, \"female\": 1})\n",
    "\n",
    "X = df[[\"Pclass\", \"Sex\", \"Age\", \"Fare\"]]\n",
    "y = df[\"Survived\"]\n",
    "\n",
    "X_train, X_test, y_train, y_test = train_test_split(X, y, test_size=0.2, random_state=42)\n",
    "\n",
    "# Modelo\n",
    "clf = LogisticRegression(max_iter=1000)\n",
    "clf.fit(X_train, y_train)\n",
    "y_pred = clf.predict(X_test)\n",
    "\n",
    "# Evaluación\n",
    "print(classification_report(y_test, y_pred))\n"
   ]
  }
 ],
 "metadata": {
  "kernelspec": {
   "display_name": "Python 3 (ipykernel)",
   "language": "python",
   "name": "python3"
  },
  "language_info": {
   "codemirror_mode": {
    "name": "ipython",
    "version": 3
   },
   "file_extension": ".py",
   "mimetype": "text/x-python",
   "name": "python",
   "nbconvert_exporter": "python",
   "pygments_lexer": "ipython3",
   "version": "3.11.4"
  }
 },
 "nbformat": 4,
 "nbformat_minor": 4
}
